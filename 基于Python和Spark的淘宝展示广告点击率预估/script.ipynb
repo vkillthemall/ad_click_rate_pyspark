{
 "cells": [
  {
   "cell_type": "code",
   "id": "initial_id",
   "metadata": {
    "collapsed": true,
    "ExecuteTime": {
     "end_time": "2024-05-24T13:07:52.648823Z",
     "start_time": "2024-05-24T13:07:52.169173Z"
    }
   },
   "source": "import pandas as pd",
   "outputs": [],
   "execution_count": 1
  },
  {
   "metadata": {},
   "cell_type": "markdown",
   "source": "",
   "id": "25820860042a25f0"
  },
  {
   "metadata": {
    "ExecuteTime": {
     "end_time": "2024-05-24T13:07:52.911260Z",
     "start_time": "2024-05-24T13:07:52.649816Z"
    }
   },
   "cell_type": "code",
   "source": [
    "# 处理广告数据\n",
    "ad_feature_file = pd.read_csv('../data/ad_feature.csv')\n",
    "print(ad_feature_file.head(12))\n",
    "ad_feature_file.info()\n",
    "ad_feature_file.shape"
   ],
   "id": "d350a7f0ff3d11a1",
   "outputs": [
    {
     "name": "stdout",
     "output_type": "stream",
     "text": [
      "    adgroup_id  cate_id  campaign_id  customer     brand   price\n",
      "0        63133     6406        83237         1   95471.0  170.00\n",
      "1       313401     6406        83237         1   87331.0  199.00\n",
      "2       248909      392        83237         1   32233.0   38.00\n",
      "3       208458      392        83237         1  174374.0  139.00\n",
      "4       110847     7211       135256         2  145952.0   32.99\n",
      "5       607788     6261       387991         6  207800.0  199.00\n",
      "6       375706     4520       387991         6       NaN   99.00\n",
      "7        11115     7213       139747         9  186847.0   33.00\n",
      "8        24484     7207       139744         9  186847.0   19.00\n",
      "9        28589     5953       395195        13       NaN  428.00\n",
      "10       23236     5953       395195        13       NaN  368.00\n",
      "11      300556     5953       395195        13       NaN  639.00\n",
      "<class 'pandas.core.frame.DataFrame'>\n",
      "RangeIndex: 846811 entries, 0 to 846810\n",
      "Data columns (total 6 columns):\n",
      " #   Column       Non-Null Count   Dtype  \n",
      "---  ------       --------------   -----  \n",
      " 0   adgroup_id   846811 non-null  int64  \n",
      " 1   cate_id      846811 non-null  int64  \n",
      " 2   campaign_id  846811 non-null  int64  \n",
      " 3   customer     846811 non-null  int64  \n",
      " 4   brand        600481 non-null  float64\n",
      " 5   price        846811 non-null  float64\n",
      "dtypes: float64(2), int64(4)\n",
      "memory usage: 38.8 MB\n"
     ]
    },
    {
     "data": {
      "text/plain": [
       "(846811, 6)"
      ]
     },
     "execution_count": 2,
     "metadata": {},
     "output_type": "execute_result"
    }
   ],
   "execution_count": 2
  },
  {
   "metadata": {
    "ExecuteTime": {
     "end_time": "2024-05-24T13:06:04.918800Z",
     "start_time": "2024-05-24T13:06:04.900832Z"
    }
   },
   "cell_type": "code",
   "source": [
    "for i in ad_feature_file.columns:\n",
    "    null_rate = ad_feature_file[i].isna().sum() / len(ad_feature_file) * 100\n",
    "    if null_rate > 0:\n",
    "        print(\"{} null rate: {} %\".format(i, round(null_rate, 2)))\n",
    "\n",
    "# 处理缺失值\n",
    "ad_feature_file.dropna(inplace=True)  # 删除含有缺失值的行\n",
    "# 处理重复值\n",
    "ad_feature_file.drop_duplicates(inplace=True)  # 删除重复行\n",
    "#将ad_feature_file中的brand列转为整型\n",
    "ad_feature_file['brand'] = ad_feature_file['brand'].astype(int)\n",
    "#保存文件\n",
    "ad_feature_file.to_csv('ad_feature_data.csv', index=False)"
   ],
   "id": "114f0a040e014eef",
   "outputs": [
    {
     "ename": "NameError",
     "evalue": "name 'ad_feature_file' is not defined",
     "output_type": "error",
     "traceback": [
      "\u001B[0;31m---------------------------------------------------------------------------\u001B[0m",
      "\u001B[0;31mNameError\u001B[0m                                 Traceback (most recent call last)",
      "\u001B[0;32m<ipython-input-13-944247e73121>\u001B[0m in \u001B[0;36m<module>\u001B[0;34m\u001B[0m\n\u001B[0;32m----> 1\u001B[0;31m \u001B[0;32mfor\u001B[0m \u001B[0mi\u001B[0m \u001B[0;32min\u001B[0m \u001B[0mad_feature_file\u001B[0m\u001B[0;34m.\u001B[0m\u001B[0mcolumns\u001B[0m\u001B[0;34m:\u001B[0m\u001B[0;34m\u001B[0m\u001B[0;34m\u001B[0m\u001B[0m\n\u001B[0m\u001B[1;32m      2\u001B[0m     \u001B[0mnull_rate\u001B[0m \u001B[0;34m=\u001B[0m \u001B[0mad_feature_file\u001B[0m\u001B[0;34m[\u001B[0m\u001B[0mi\u001B[0m\u001B[0;34m]\u001B[0m\u001B[0;34m.\u001B[0m\u001B[0misna\u001B[0m\u001B[0;34m(\u001B[0m\u001B[0;34m)\u001B[0m\u001B[0;34m.\u001B[0m\u001B[0msum\u001B[0m\u001B[0;34m(\u001B[0m\u001B[0;34m)\u001B[0m \u001B[0;34m/\u001B[0m \u001B[0mlen\u001B[0m\u001B[0;34m(\u001B[0m\u001B[0mad_feature_file\u001B[0m\u001B[0;34m)\u001B[0m \u001B[0;34m*\u001B[0m \u001B[0;36m100\u001B[0m\u001B[0;34m\u001B[0m\u001B[0;34m\u001B[0m\u001B[0m\n\u001B[1;32m      3\u001B[0m     \u001B[0;32mif\u001B[0m \u001B[0mnull_rate\u001B[0m \u001B[0;34m>\u001B[0m \u001B[0;36m0\u001B[0m\u001B[0;34m:\u001B[0m\u001B[0;34m\u001B[0m\u001B[0;34m\u001B[0m\u001B[0m\n\u001B[1;32m      4\u001B[0m         \u001B[0mprint\u001B[0m\u001B[0;34m(\u001B[0m\u001B[0;34m\"{} null rate: {} %\"\u001B[0m\u001B[0;34m.\u001B[0m\u001B[0mformat\u001B[0m\u001B[0;34m(\u001B[0m\u001B[0mi\u001B[0m\u001B[0;34m,\u001B[0m \u001B[0mround\u001B[0m\u001B[0;34m(\u001B[0m\u001B[0mnull_rate\u001B[0m\u001B[0;34m,\u001B[0m \u001B[0;36m2\u001B[0m\u001B[0;34m)\u001B[0m\u001B[0;34m)\u001B[0m\u001B[0;34m)\u001B[0m\u001B[0;34m\u001B[0m\u001B[0;34m\u001B[0m\u001B[0m\n\u001B[1;32m      5\u001B[0m \u001B[0;34m\u001B[0m\u001B[0m\n",
      "\u001B[0;31mNameError\u001B[0m: name 'ad_feature_file' is not defined"
     ]
    }
   ],
   "execution_count": 13
  },
  {
   "metadata": {},
   "cell_type": "code",
   "source": [
    "# 处理用户行为数据\n",
    "behavior_file = pd.read_csv('../data/behavior_log.csv',nrows=500000)\n",
    "print(behavior_file.head(12))\n",
    "behavior_file.info()\n",
    "behavior_file.shape"
   ],
   "id": "bd7575a9a7a3da9f",
   "outputs": [],
   "execution_count": null
  },
  {
   "metadata": {},
   "cell_type": "code",
   "source": [
    "for i in behavior_file.columns:\n",
    "    null_rate = behavior_file[i].isna().sum() / len(behavior_file) * 100\n",
    "    if null_rate > 0:\n",
    "        print(\"{} null rate: {} %\".format(i, round(null_rate, 2)))\n",
    "behavior_file.rename(columns={'user':'userid'},inplace=True)\n",
    "behavior_file.rename(columns={'cate':'cate_id'},inplace=True)"
   ],
   "id": "7dbd85d35612a364",
   "outputs": [],
   "execution_count": null
  },
  {
   "metadata": {},
   "cell_type": "code",
   "source": [
    "behavior_file['time_stamp']=pd.to_datetime(behavior_file['time_stamp'],unit='s')\n",
    "# 从转换后的数据中分别提取：日期、时间、小时，组成新的列\n",
    "behavior_file['date'] = behavior_file['time_stamp'].dt.date\n",
    "behavior_file['time'] = behavior_file['time_stamp'].dt.time\n",
    "behavior_file['hour'] = behavior_file['time_stamp'].dt.hour\n",
    "behavior_file = behavior_file.drop(['time_stamp'],axis=1)\n",
    "behavior_file.to_csv('behavior_data.csv',index=False,sep=',')"
   ],
   "id": "931d6e61e0e8a5ab",
   "outputs": [],
   "execution_count": null
  },
  {
   "metadata": {
    "ExecuteTime": {
     "end_time": "2024-05-24T13:08:06.179293Z",
     "start_time": "2024-05-24T13:08:05.826286Z"
    }
   },
   "cell_type": "code",
   "source": [
    "# 用户基本信息\n",
    "user_profile_file = pd.read_csv('../data/user_profile.csv')\n",
    "print(user_profile_file.head(12))\n",
    "user_profile_file.info()"
   ],
   "id": "5e6965d1db5d3604",
   "outputs": [
    {
     "name": "stdout",
     "output_type": "stream",
     "text": [
      "    userid  cms_segid  cms_group_id  final_gender_code  age_level  \\\n",
      "0      234          0             5                  2          5   \n",
      "1      523          5             2                  2          2   \n",
      "2      612          0             8                  1          2   \n",
      "3     1670          0             4                  2          4   \n",
      "4     2545          0            10                  1          4   \n",
      "5     3644         49             6                  2          6   \n",
      "6     5777         44             5                  2          5   \n",
      "7     6211          0             9                  1          3   \n",
      "8     6355          2             1                  2          1   \n",
      "9     6823         43             5                  2          5   \n",
      "10    6972          5             2                  2          2   \n",
      "11    9293          0             5                  2          5   \n",
      "\n",
      "    pvalue_level  shopping_level  occupation  new_user_class_level   \n",
      "0            NaN               3           0                    3.0  \n",
      "1            1.0               3           1                    2.0  \n",
      "2            2.0               3           0                    NaN  \n",
      "3            NaN               1           0                    NaN  \n",
      "4            NaN               3           0                    NaN  \n",
      "5            2.0               3           0                    2.0  \n",
      "6            2.0               3           0                    2.0  \n",
      "7            NaN               3           0                    2.0  \n",
      "8            1.0               3           0                    4.0  \n",
      "9            2.0               3           0                    1.0  \n",
      "10           2.0               3           1                    2.0  \n",
      "11           NaN               3           0                    4.0  \n",
      "<class 'pandas.core.frame.DataFrame'>\n",
      "RangeIndex: 1061768 entries, 0 to 1061767\n",
      "Data columns (total 9 columns):\n",
      " #   Column                 Non-Null Count    Dtype  \n",
      "---  ------                 --------------    -----  \n",
      " 0   userid                 1061768 non-null  int64  \n",
      " 1   cms_segid              1061768 non-null  int64  \n",
      " 2   cms_group_id           1061768 non-null  int64  \n",
      " 3   final_gender_code      1061768 non-null  int64  \n",
      " 4   age_level              1061768 non-null  int64  \n",
      " 5   pvalue_level           485851 non-null   float64\n",
      " 6   shopping_level         1061768 non-null  int64  \n",
      " 7   occupation             1061768 non-null  int64  \n",
      " 8   new_user_class_level   716848 non-null   float64\n",
      "dtypes: float64(2), int64(7)\n",
      "memory usage: 72.9 MB\n"
     ]
    }
   ],
   "execution_count": 3
  },
  {
   "metadata": {
    "ExecuteTime": {
     "end_time": "2024-05-24T13:08:14.252720Z",
     "start_time": "2024-05-24T13:08:08.572297Z"
    }
   },
   "cell_type": "code",
   "source": [
    "from sklearn.impute import SimpleImputer\n",
    "for i in user_profile_file.columns:\n",
    "    null_rate = user_profile_file[i].isna().sum() / len(user_profile_file) * 100\n",
    "    if null_rate > 0:\n",
    "        print(\"{} null rate: {} %\".format(i, round(null_rate, 2)))\n",
    "city_level = user_profile_file.loc[:,'new_user_class_level '].values.reshape(-1,1)  # loc：对索引名进行切片   \n",
    "si = SimpleImputer(strategy = 'most_frequent')  # 实例化，使用众数填补\n",
    "user_profile_file.loc[:,'new_user_class_level '] = si.fit_transform(city_level) # fit_transform一步训练导出结果\n",
    "user_profile_file.info()\n",
    "# 利用KNN对消费档次进行预测填充\n",
    "from sklearn.neighbors import KNeighborsClassifier\n",
    "columns = ['userid', 'cms_segid', 'cms_group_id', 'final_gender_code', 'age_level',\n",
    "       'shopping_level', 'occupation', 'new_user_class_level ','pvalue_level']\n",
    "user_data = user_profile_file[columns]\n",
    "# pavlue_level为空的样本作为测试集\n",
    "pvalue_null = user_data.loc[user_data['pvalue_level'].isnull().values == True]\n",
    "# pavlue_level不空的样本作为训练集\n",
    "pvalue_nonull = user_data.loc[user_data['pvalue_level'].isnull().values == False]\n",
    "X_train_user,y_train_user = pvalue_nonull.iloc[:,:-1],pvalue_nonull.iloc[:,-1]\n",
    "X_test_user,y_test_user = pvalue_null.iloc[:,:-1],pvalue_null.iloc[:,-1]\n",
    "knn = KNeighborsClassifier(n_neighbors=3,weights='distance')\n",
    "knn.fit(X_train_user,y_train_user)\n",
    "# 得到预测结果\n",
    "y_test_user = knn.predict(X_test_user)\n",
    "y_test_user = pd.DataFrame(y_test_user)\n",
    "y_test_user.columns = ['pvalue_level']\n",
    "X_test_user.reset_index(drop=True,inplace=True)\n",
    "pvalue_null = pd.concat([X_test_user,y_test_user],axis=1)\n",
    "user = pd.concat([pvalue_nonull,pvalue_null],ignore_index=False)\n",
    "# 将处理过后的user信息保存\n",
    "user.to_csv('user_data.csv',index=False,sep=',')"
   ],
   "id": "6fd107ea6a9a059c",
   "outputs": [
    {
     "name": "stdout",
     "output_type": "stream",
     "text": [
      "pvalue_level null rate: 54.24 %\n",
      "new_user_class_level  null rate: 32.49 %\n",
      "<class 'pandas.core.frame.DataFrame'>\n",
      "RangeIndex: 1061768 entries, 0 to 1061767\n",
      "Data columns (total 9 columns):\n",
      " #   Column                 Non-Null Count    Dtype  \n",
      "---  ------                 --------------    -----  \n",
      " 0   userid                 1061768 non-null  int64  \n",
      " 1   cms_segid              1061768 non-null  int64  \n",
      " 2   cms_group_id           1061768 non-null  int64  \n",
      " 3   final_gender_code      1061768 non-null  int64  \n",
      " 4   age_level              1061768 non-null  int64  \n",
      " 5   pvalue_level           485851 non-null   float64\n",
      " 6   shopping_level         1061768 non-null  int64  \n",
      " 7   occupation             1061768 non-null  int64  \n",
      " 8   new_user_class_level   1061768 non-null  float64\n",
      "dtypes: float64(2), int64(7)\n",
      "memory usage: 72.9 MB\n"
     ]
    }
   ],
   "execution_count": 4
  },
  {
   "metadata": {
    "ExecuteTime": {
     "end_time": "2024-05-24T13:16:51.436037Z",
     "start_time": "2024-05-24T13:16:51.246757Z"
    }
   },
   "cell_type": "code",
   "source": [
    "# 样本\n",
    "raw_sample_file = pd.read_csv('../data/raw_sample.csv', nrows=500000)\n",
    "print(raw_sample_file.head(12))\n",
    "raw_sample_file.info()"
   ],
   "id": "3c71e25dbbdd627e",
   "outputs": [
    {
     "name": "stdout",
     "output_type": "stream",
     "text": [
      "      user  time_stamp  adgroup_id          pid  nonclk  clk\n",
      "0   581738  1494137644           1  430548_1007       1    0\n",
      "1   449818  1494638778           3  430548_1007       1    0\n",
      "2   914836  1494650879           4  430548_1007       1    0\n",
      "3   914836  1494651029           5  430548_1007       1    0\n",
      "4   399907  1494302958           8  430548_1007       1    0\n",
      "5   628137  1494524935           9  430548_1007       1    0\n",
      "6   298139  1494462593           9  430539_1007       1    0\n",
      "7   775475  1494561036           9  430548_1007       1    0\n",
      "8   555266  1494307136          11  430539_1007       1    0\n",
      "9   117840  1494036743          11  430548_1007       1    0\n",
      "10  739815  1494115387          11  430539_1007       1    0\n",
      "11  623911  1494625301          11  430548_1007       1    0\n",
      "<class 'pandas.core.frame.DataFrame'>\n",
      "RangeIndex: 500000 entries, 0 to 499999\n",
      "Data columns (total 6 columns):\n",
      " #   Column      Non-Null Count   Dtype \n",
      "---  ------      --------------   ----- \n",
      " 0   user        500000 non-null  int64 \n",
      " 1   time_stamp  500000 non-null  int64 \n",
      " 2   adgroup_id  500000 non-null  int64 \n",
      " 3   pid         500000 non-null  object\n",
      " 4   nonclk      500000 non-null  int64 \n",
      " 5   clk         500000 non-null  int64 \n",
      "dtypes: int64(5), object(1)\n",
      "memory usage: 22.9+ MB\n"
     ]
    }
   ],
   "execution_count": 6
  },
  {
   "metadata": {
    "ExecuteTime": {
     "end_time": "2024-05-24T13:16:53.165027Z",
     "start_time": "2024-05-24T13:16:52.477378Z"
    }
   },
   "cell_type": "code",
   "source": [
    "for i in raw_sample_file.columns:\n",
    "    null_rate = raw_sample_file[i].isna().sum() / len(raw_sample_file) * 100\n",
    "    if null_rate > 0:\n",
    "        print(\"{} null rate: {} %\".format(i, round(null_rate, 2)))\n",
    "# 将处理过后的user信息保存\n",
    "raw_sample_file.to_csv('sample_data.csv',index=False)"
   ],
   "id": "7e530a97cbb1b1ba",
   "outputs": [],
   "execution_count": 7
  },
  {
   "metadata": {
    "ExecuteTime": {
     "end_time": "2024-05-24T07:29:30.377838Z",
     "start_time": "2024-05-24T07:29:27.271226Z"
    }
   },
   "cell_type": "code",
   "source": [
    "print(f'dataset表的维度：{raw_sample_file.shape}')\n",
    "print(f'user表的维度：{user.shape}')\n",
    "print(f'ads表的维度：{ad_feature_file.shape}')\n",
    "\n",
    "# 修改表dataset中列名user为userid，以便后面基于主键连接\n",
    "raw_sample_file.rename(columns={'user':'userid'},inplace=True)\n",
    "raw_sample_file.head()\n",
    "\n",
    "# 将数据集dataset与用户基本信息表user合并，基于主键userid，how='right'表示以右边表为基准连接\n",
    "user_dataset = pd.merge(user,raw_sample_file,on='userid',how='right')\n",
    "print(f'user_dataset表的维度：{user_dataset.shape}')\n",
    "\n",
    "# 将数据集与广告基本信息表ads合并，基于主键adgroup_id，how='right'表示以右边表为基准连接\n",
    "ads_user_dataset = pd.merge(ad_feature_file,user_dataset,on='adgroup_id',how='right')\n",
    "print(f'ads_user_dataset表的维度：{ads_user_dataset.shape}')\n",
    "\n",
    "ads_user_dataset.to_csv('data.csv',index=False,sep=',')"
   ],
   "id": "d232595552e94aa4",
   "outputs": [
    {
     "name": "stdout",
     "output_type": "stream",
     "text": [
      "dataset表的维度：(500000, 6)\n",
      "user表的维度：(1061768, 9)\n",
      "ads表的维度：(600481, 6)\n",
      "user_dataset表的维度：(500000, 14)\n",
      "ads_user_dataset表的维度：(500000, 19)\n"
     ]
    }
   ],
   "execution_count": 38
  },
  {
   "metadata": {
    "ExecuteTime": {
     "end_time": "2024-05-24T13:21:42.808055Z",
     "start_time": "2024-05-24T13:21:42.262967Z"
    }
   },
   "cell_type": "code",
   "source": [
    "data = pd.read_csv('data.csv')\n",
    "# 获取data每列的缺失值占比\n",
    "data_null = data.isnull().sum()/len(raw_sample_file)*100\n",
    "data_null = data_null.drop(data_null[data_null==0].index).sort_values(ascending=False)     # 将缺失值占比从高到低排序\n",
    "missing_data = pd.DataFrame({'Missing Ratio(%)':data_null})\n",
    "print(f'dataset含有缺失值的属性个数：{len(data_null)}')\n",
    "print(missing_data)\n",
    "data.dropna(axis=0, how='any',inplace=True)"
   ],
   "id": "8352bd3bd8ef11ef",
   "outputs": [
    {
     "name": "stdout",
     "output_type": "stream",
     "text": [
      "dataset含有缺失值的属性个数：13\n",
      "                       Missing Ratio(%)\n",
      "cate_id                         15.6260\n",
      "campaign_id                     15.6260\n",
      "customer                        15.6260\n",
      "brand                           15.6260\n",
      "price                           15.6260\n",
      "cms_segid                        5.8584\n",
      "cms_group_id                     5.8584\n",
      "final_gender_code                5.8584\n",
      "age_level                        5.8584\n",
      "shopping_level                   5.8584\n",
      "occupation                       5.8584\n",
      "new_user_class_level             5.8584\n",
      "pvalue_level                     5.8584\n"
     ]
    }
   ],
   "execution_count": 8
  },
  {
   "metadata": {
    "ExecuteTime": {
     "end_time": "2024-05-24T07:29:33.505329Z",
     "start_time": "2024-05-24T07:29:30.981025Z"
    }
   },
   "cell_type": "code",
   "source": [
    "# 将数据中的时间戳形式转换为日期和时间形式\n",
    "import datetime\n",
    "import time\n",
    "data['time_stamp']=pd.to_datetime(data['time_stamp'],unit='s')\n",
    "data['time_stamp']\n",
    "# 从转换后的数据中分别提取：日期、时间、小时，组成新的列\n",
    "data['date'] = data['time_stamp'].dt.date\n",
    "data['time'] = data['time_stamp'].dt.time\n",
    "data['hour'] = data['time_stamp'].dt.hour\n",
    "# 调整数据集data的列顺序:将'data'、'time'、'hour'这三列数据调至'time_stamp'列后\n",
    "columns = ['adgroup_id', 'cate_id', 'campaign_id', 'customer', 'brand', 'price',\n",
    "       'userid', 'cms_segid', 'cms_group_id', 'final_gender_code', 'age_level',\n",
    "       'shopping_level', 'occupation', 'new_user_class_level ', 'pvalue_level',\n",
    "       'time_stamp', 'date', 'time', 'hour', 'pid', 'nonclk', 'clk']\n",
    "data = data[columns]\n",
    "data = data.drop(['time_stamp','time','nonclk'],axis=1)\n",
    "data.to_csv('user_ad_data.csv',index=False,sep=',')"
   ],
   "id": "9a0309026bce0462",
   "outputs": [],
   "execution_count": 40
  },
  {
   "metadata": {
    "ExecuteTime": {
     "end_time": "2024-05-24T07:29:33.522244Z",
     "start_time": "2024-05-24T07:29:33.508804Z"
    }
   },
   "cell_type": "code",
   "source": "",
   "id": "7cad6daf0de5ec55",
   "outputs": [],
   "execution_count": 40
  }
 ],
 "metadata": {
  "kernelspec": {
   "display_name": "Python 3",
   "language": "python",
   "name": "python3"
  },
  "language_info": {
   "codemirror_mode": {
    "name": "ipython",
    "version": 2
   },
   "file_extension": ".py",
   "mimetype": "text/x-python",
   "name": "python",
   "nbconvert_exporter": "python",
   "pygments_lexer": "ipython2",
   "version": "2.7.6"
  }
 },
 "nbformat": 4,
 "nbformat_minor": 5
}
